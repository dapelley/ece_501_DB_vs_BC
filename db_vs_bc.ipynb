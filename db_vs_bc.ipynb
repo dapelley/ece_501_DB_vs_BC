{
 "cells": [
  {
   "cell_type": "markdown",
   "id": "fbe97fac",
   "metadata": {},
   "source": [
    "## Blockchain vs SQL/SQLite Demo Notebook\n"
   ]
  },
  {
   "cell_type": "markdown",
   "id": "ef0654bf",
   "metadata": {},
   "source": [
    "### Introduction\n",
    "\n",
    "#### Blockchain vs SQL/SQLite Demo\n",
    "\n",
    "This notebook demonstrates:\n",
    "- A minimal blockchain storing student records\n",
    "- SQLite database storing the same student records\n",
    "- Contrast between blockchain immutability and SQL database mutability\n"
   ]
  },
  {
   "cell_type": "code",
   "execution_count": null,
   "id": "1142e4b9",
   "metadata": {},
   "outputs": [],
   "source": [
    "# imports\n",
    "import hashlib\n",
    "import json\n",
    "import time\n",
    "import sqlite3"
   ]
  },
  {
   "cell_type": "markdown",
   "id": "a3c007d0",
   "metadata": {},
   "source": [
    "### Part 1: Blockchain Implementation"
   ]
  },
  {
   "cell_type": "markdown",
   "id": "b689ea2f",
   "metadata": {},
   "source": [
    "#### Part 1a: Instantiate Blockchain Class and Functions"
   ]
  },
  {
   "cell_type": "code",
   "execution_count": null,
   "id": "ff23949f",
   "metadata": {},
   "outputs": [],
   "source": [
    "\n",
    "class Block():\n",
    "    def __init__(self, index, data, previous_hash):\n",
    "        self.index = index\n",
    "        self.timestamp = time.time()\n",
    "        self.data = data\n",
    "        self.previous_hash = previous_hash\n",
    "        self.hash = self.compute_hash()\n",
    "\n",
    "\n",
    "    def compute_hash(self):\n",
    "        block_string = json.dumps(self.__dict__, sort_keys=True)\n",
    "        return hashlib.sha256(block_string.encode()).hexdigest()\n",
    "\n",
    "\n",
    "class Blockchain:\n",
    "    def __init__(self):\n",
    "        self.chain = []\n",
    "        self.create_genesis_block()\n",
    "\n",
    "\n",
    "def create_genesis_block(self):\n",
    "    genesis = Block(0, {\"message\": \"Genesis Block\"}, \"0\")\n",
    "    self.chain.append(genesis)\n",
    "\n",
    "\n",
    "def add_block(self, data):\n",
    "    prev_hash = self.chain[-1].hash\n",
    "    new_block = Block(len(self.chain), data, prev_hash)\n",
    "    self.chain.append(new_block)\n",
    "    return new_block\n",
    "\n",
    "\n",
    "def is_chain_valid(self):\n",
    "    for i in range(1, len(self.chain)):\n",
    "        current = self.chain[i]\n",
    "        prev = self.chain[i-1]\n",
    "        if current.hash != current.compute_hash():\n",
    "            return False\n",
    "        elif current.previous_hash != prev.hash:\n",
    "            return False\n",
    "        else:\n",
    "            return True"
   ]
  },
  {
   "cell_type": "markdown",
   "id": "def31d90",
   "metadata": {},
   "source": [
    "#### Part 1b: Blockchain Demo"
   ]
  },
  {
   "cell_type": "code",
   "execution_count": null,
   "id": "929456cc",
   "metadata": {},
   "outputs": [],
   "source": [
    "bc = Blockchain()\n",
    "bc.add_block({\"student_id\": 1, \"name\": \"Alice\", \"grade\": \"A\"})\n",
    "bc.add_block({\"student_id\": 2, \"name\": \"Bob\", \"grade\": \"B\"})\n",
    "bc.add_block({\"student_id\": 3, \"name\": \"Charlie\", \"grade\": \"A\"})\n",
    "\n",
    "\n",
    "for block in bc.chain:\n",
    "    print(f\"Block {block.index}\")\n",
    "    print(f\"Data: {block.data}\")\n",
    "    print(f\"Hash: {block.hash[:10]}... | Prev: {block.previous_hash[:10]}...\")\n",
    "    print('\\n', \"Blockchain valid? \", bc.is_chain_valid())"
   ]
  },
  {
   "cell_type": "markdown",
   "id": "1bae7be2",
   "metadata": {},
   "source": [
    "#### Part 1c: Blockchain Tampering Validation"
   ]
  },
  {
   "cell_type": "code",
   "execution_count": null,
   "id": "630ddf32",
   "metadata": {},
   "outputs": [],
   "source": [
    "print(\"\\n--- Tampering with Block 1 ---\")\n",
    "bc.chain[1].data[\"name\"] = \"Eve\"\n",
    "print(\"Blockchain valid after tampering?\", bc.is_chain_valid())"
   ]
  },
  {
   "cell_type": "markdown",
   "id": "f77d4d73",
   "metadata": {},
   "source": [
    "### Part 2: Standard Database with SQL Implementation"
   ]
  },
  {
   "cell_type": "markdown",
   "id": "d5e5e6cd",
   "metadata": {},
   "source": [
    "#### Part 2a: Instantiate Table for DB"
   ]
  },
  {
   "cell_type": "code",
   "execution_count": null,
   "id": "30e02e5f",
   "metadata": {},
   "outputs": [],
   "source": [
    "conn = sqlite3.connect(\":memory:\")\n",
    "c = conn.cursor()\n",
    "c.execute(\"CREATE TABLE students (id INTEGER PRIMARY KEY, name TEXT, grade TEXT)\")"
   ]
  },
  {
   "cell_type": "markdown",
   "id": "62211bfd",
   "metadata": {},
   "source": [
    "#### Part 2b: Insert Records into DB"
   ]
  },
  {
   "cell_type": "code",
   "execution_count": null,
   "id": "e5355425",
   "metadata": {},
   "outputs": [],
   "source": [
    "c.execute(\"INSERT INTO students VALUES (1, 'Alice', 'A')\")\n",
    "c.execute(\"INSERT INTO students VALUES (2, 'Bob', 'B')\")\n",
    "c.execute(\"INSERT INTO students VALUES (3, 'Charlie', 'A')\")\n",
    "conn.commit()"
   ]
  },
  {
   "cell_type": "markdown",
   "id": "a084bde1",
   "metadata": {},
   "source": [
    "#### Part 2c: Basic Query"
   ]
  },
  {
   "cell_type": "code",
   "execution_count": null,
   "id": "44cb6935",
   "metadata": {},
   "outputs": [],
   "source": [
    "# Query grade A students\n",
    "c.execute(\"SELECT * FROM students WHERE grade='A'\")\n",
    "print(\"Students with grade A:\", c.fetchall())"
   ]
  },
  {
   "cell_type": "markdown",
   "id": "66258947",
   "metadata": {},
   "source": [
    "#### Part 2d: Update and Delete from DB"
   ]
  },
  {
   "cell_type": "code",
   "execution_count": null,
   "id": "6c086953",
   "metadata": {},
   "outputs": [],
   "source": [
    "c.execute(\"UPDATE students SET name='Eve' WHERE id=2\")\n",
    "c.execute(\"DELETE FROM students WHERE id=3\")\n",
    "conn.commit()"
   ]
  },
  {
   "cell_type": "markdown",
   "id": "5eb47e82",
   "metadata": {},
   "source": [
    "#### Part 2e: Query DB after Deletion"
   ]
  },
  {
   "cell_type": "code",
   "execution_count": null,
   "id": "be3bce11",
   "metadata": {},
   "outputs": [],
   "source": [
    "# Query all records after updates\n",
    "c.execute(\"SELECT * FROM students\")\n",
    "print(\"All students after updates:\", c.fetchall())"
   ]
  },
  {
   "cell_type": "markdown",
   "id": "3098bc5d",
   "metadata": {},
   "source": [
    "### Part 3: Comparing BC and DB"
   ]
  },
  {
   "cell_type": "markdown",
   "id": "7145eb56",
   "metadata": {},
   "source": [
    "\n",
    "| Feature | Blockchain | SQL/SQLite |\n",
    "|---------|------------|------------|\n",
    "| Data Mutability | Immutable once added | INSERT, UPDATE, DELETE allowed |\n",
    "| Integrity | Cryptographic hashes | Constraints, triggers, ACID |\n",
    "| Transaction Ordering | Sequential chain | DBMS log / isolation levels |\n",
    "| Querying | Full scan or custom index | Optimized SQL queries |\n",
    "| Replication | Consensus across nodes | Master-slave / clustering |\n"
   ]
  },
  {
   "cell_type": "markdown",
   "id": "b91b663d",
   "metadata": {},
   "source": [
    "### Summary and Key Takeaways"
   ]
  },
  {
   "cell_type": "markdown",
   "id": "0d902902",
   "metadata": {},
   "source": [
    "- Blockchain ensures immutability and tamper-evidence.\n",
    "- SQL DBs are flexible, efficient, and support ACID properties.\n",
    "- Hybrid approaches exist, e.g., blockchain as audit logs for SQL databases."
   ]
  }
 ],
 "metadata": {
  "kernelspec": {
   "display_name": ".venv",
   "language": "python",
   "name": "python3"
  },
  "language_info": {
   "name": "python",
   "version": "3.12.1"
  }
 },
 "nbformat": 4,
 "nbformat_minor": 5
}
